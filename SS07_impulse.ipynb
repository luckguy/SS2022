{
  "cells": [
    {
      "cell_type": "markdown",
      "metadata": {
        "id": "view-in-github",
        "colab_type": "text"
      },
      "source": [
        "<a href=\"https://colab.research.google.com/github/luckguy/SS2022/blob/main/SS07_impulse.ipynb\" target=\"_parent\"><img src=\"https://colab.research.google.com/assets/colab-badge.svg\" alt=\"Open In Colab\"/></a>"
      ]
    },
    {
      "cell_type": "markdown",
      "metadata": {
        "nbsphinx": "hidden",
        "id": "mWUsDkjXf_L4"
      },
      "source": [
        "# Characterization of Discrete Systems in the Time Domain\n",
        "\n",
        "*This Jupyter notebook is part of a [collection of notebooks](../index.ipynb) in the bachelors module Signals and Systems, Comunications Engineering, Universität Rostock. Please direct questions and suggestions to [Sascha.Spors@uni-rostock.de](mailto:Sascha.Spors@uni-rostock.de).*"
      ]
    },
    {
      "cell_type": "markdown",
      "metadata": {
        "id": "ZDrQheiEf_L7"
      },
      "source": [
        "## 脈衝響應\n",
        "\n",
        "輸入訊號為單位脈衝訊號所得的輸出訊號\n",
        "\\begin{equation}\n",
        "h[n] = \\mathcal{H} \\left\\{ \\delta[n] \\right\\}\n",
        "\\end{equation}\n"
      ]
    },
    {
      "cell_type": "markdown",
      "metadata": {
        "id": "lqLOD8G1f_L8"
      },
      "source": [
        "### Output 輸出訊號\n",
        "\n",
        "The response $y[k] = \\mathcal{H} \\{ x[k] \\}$ of an LTI system to an arbitrary input signal $x[k]$ is derived. By applying the [sifting-property of the discrete Dirac impulse](../discrete_signals/standard_signals.ipynb#Dirac-Impulse), the input signal can be represented as\n",
        "\n",
        "\n",
        "\\begin{equation}\n",
        "h[n] = \\mathcal{H} \\left\\{ \\delta[n] \\right\\}\n",
        "\\end{equation}\n",
        "\n",
        "If the system is time-invariant, the response to a shifted Dirac impulse is $\\mathcal{H} \\left\\{ \\delta[k-\\kappa]) \\right\\} = h[k-\\kappa]$. Hence, for a discrete LTI system we finally get\n",
        "\n",
        "\\begin{equation}\n",
        "y[k] = \\sum_{\\kappa = -\\infty}^{\\infty} x[\\kappa] \\cdot h[k-\\kappa] = y[k] = x[k] * h[k]\n",
        "\\end{equation}\n",
        "\n",
        "This operation is termed as linear [*convolution*](https://en.wikipedia.org/wiki/Convolution) and commonly abbreviated by $*$. The properties of an LTI system are entirely characterized by its impulse response. The response $y[k]$ of a system to an arbitrary input signal $x[k]$ is given by the convolution of the input signal $x[k]$ with its impulse response $h[k]$."
      ]
    },
    {
      "cell_type": "markdown",
      "metadata": {
        "id": "cHTpmfuGf_L8"
      },
      "source": [
        "### Relation to Difference Equation\n",
        "\n",
        "The impulse response $h[k] = \\mathcal{H} \\{ \\delta[k] \\}$ is the response of an LTI system to an Dirac impulse at the input. It can be derived from the coefficients of a [linear differential equation representing the LTI system](difference_equation.ipynb) by computing the output signal for the input signal $x[k] = \\delta[k]$. Introducing this into the [solution of the difference equation](difference_equation.ipynb#Computation-of-the-Output-Signal) yields\n",
        "\n",
        "\\begin{equation}\n",
        "h[k] = \\frac{1}{a_0} \\left( \\sum_{m=0}^{M} b_m \\; \\delta[k-m] - \\sum_{n=1}^{N} a_n \\; h[k-n] \\right)\n",
        "\\end{equation}"
      ]
    },
    {
      "cell_type": "markdown",
      "metadata": {
        "id": "pZwXly3vf_L9"
      },
      "source": [
        "### 有限脈衝響應系統\n",
        "\n",
        "Let's consider the case of a [non-recursive system](difference_equation.ipynb#Recursive-and-Non-Recursive-Systems) with $a_n = 0$ for $n > 0$. Without loss of generality it can be assumed that $a_0 = 1$, since $\\frac{1}{a_0}$ can be incorporated into the other coefficients by dividing them through $a_0$. The impulse response is given as\n",
        "\n",
        "\\begin{equation}\n",
        "h[n] = \\sum_{k=0}^{M} b_m \\; \\delta[n-m] = \\begin{cases} b_n & \\text{for } 0 \\leq n < M \\\\ 0 & \\text{otherwise} \\end{cases}\n",
        "\\end{equation}\n",
        "\n"
      ]
    },
    {
      "cell_type": "markdown",
      "metadata": {
        "id": "9vat54Ikf_L-"
      },
      "source": [
        "**Example - 移動平均系統**\n",
        "\n",
        "According to above findings, the impulse response of the [moving average filter](difference_equation.ipynb#Moving-Average) is given as\n",
        "\n",
        "\\begin{equation}\n",
        "h[k] = \\frac{1}{N} \\cdot \\text{rect}_N[k]\n",
        "\\end{equation}\n",
        "\n",
        "As alternative to the [solution of the difference equation illustrated before](difference_equation.ipynb#Moving-Average), the output signal $y[k] = \\mathcal{H} \\{ y[k] \\}$ is computed by convolution of the (same) input signal."
      ]
    },
    {
      "cell_type": "code",
      "execution_count": 2,
      "metadata": {
        "colab": {
          "base_uri": "https://localhost:8080/",
          "height": 301
        },
        "id": "56eesV9Qf_L_",
        "outputId": "29b29d35-dcde-4c6a-f16f-39bfce47fa15"
      },
      "outputs": [
        {
          "output_type": "execute_result",
          "data": {
            "text/plain": [
              "(-0.2, 0.30000000000000004)"
            ]
          },
          "metadata": {},
          "execution_count": 2
        },
        {
          "output_type": "display_data",
          "data": {
            "image/png": "[encoded data removed]",
            "text/plain": [
              "<Figure size 720x288 with 1 Axes>"
            ]
          },
          "metadata": {
            "needs_background": "light"
          }
        }
      ],
      "source": [
        "import numpy as np\n",
        "from scipy import signal\n",
        "import matplotlib.pyplot as plt\n",
        "%matplotlib inline\n",
        "\n",
        "def dirac(k):\n",
        "    return np.where(k==0,1,0)\n",
        "\n",
        "# 定義移動平均器\n",
        "N = 5   \n",
        "\n",
        "a=[1]\n",
        "b=np.ones(N)/N  # y[n]=x[n]+x[n-1]+...+x[n-4]\n",
        "\n",
        "# 定義脈衝訊號\n",
        "n = np.arange(-10, 50)\n",
        "x=dirac(n)\n",
        "h=signal.lfilter(b,a,x)  # 計算脈衝訊號的輸出，得到脈衝響應\n",
        "\n",
        "plt.figure(figsize=(10, 4))\n",
        "plt.stem(n, h,use_line_collection=True)\n",
        "plt.xlabel('$n$')\n",
        "plt.ylabel(r'$h[n]$')\n",
        "plt.ylim(-0.2, 1/N+0.1)"
      ]
    },
    {
      "cell_type": "markdown",
      "source": [
        "### 無窮脈衝響應系統\n"
      ],
      "metadata": {
        "id": "qcqtVVTi2aen"
      }
    },
    {
      "cell_type": "markdown",
      "source": [
        "**Example: 一階遞迴系統**\n",
        "\\begin{equation}\n",
        "  y[n]-a y[n]= b x[n]\n",
        "\\end{equation}"
      ],
      "metadata": {
        "id": "zePcVkOEY7HN"
      }
    },
    {
      "cell_type": "code",
      "execution_count": 4,
      "metadata": {
        "outputId": "647732bb-3213-427f-c500-124030316a04",
        "colab": {
          "base_uri": "https://localhost:8080/",
          "height": 247
        },
        "id": "6gAHx3fWeLbA"
      },
      "outputs": [
        {
          "output_type": "execute_result",
          "data": {
            "text/plain": [
              "(-0.2, 1.2)"
            ]
          },
          "metadata": {},
          "execution_count": 4
        },
        {
          "output_type": "display_data",
          "data": {
            "image/png": "[encoded data removed]",
            "text/plain": [
              "<Figure size 432x216 with 1 Axes>"
            ]
          },
          "metadata": {
            "needs_background": "light"
          }
        }
      ],
      "source": [
        "# 一階遞迴系統\n",
        "# 定義 y[n]=0.8 y[n-1]+x[n]\n",
        "a = [1.0, -0.8]\n",
        "b = [1.0]\n",
        "\n",
        "x=dirac(n)\n",
        "h = signal.lfilter(b, a, x)  # 計算脈衝訊號的輸出，得到脈衝響應\n",
        "\n",
        "plt.figure(figsize=(6, 3))\n",
        "plt.stem(n, h,use_line_collection=True) \n",
        "plt.xlabel('$n$')\n",
        "plt.ylabel(r'$h[n]$')\n",
        "plt.ylim(-0.2,1.2)"
      ]
    }
  ],
  "metadata": {
    "kernelspec": {
      "display_name": "Python 3",
      "language": "python",
      "name": "python3"
    },
    "language_info": {
      "codemirror_mode": {
        "name": "ipython",
        "version": 3
      },
      "file_extension": ".py",
      "mimetype": "text/x-python",
      "name": "python",
      "nbconvert_exporter": "python",
      "pygments_lexer": "ipython3",
      "version": "3.8.3"
    },
    "colab": {
      "name": "impulse_response.ipynb",
      "provenance": [],
      "include_colab_link": true
    }
  },
  "nbformat": 4,
  "nbformat_minor": 0
}