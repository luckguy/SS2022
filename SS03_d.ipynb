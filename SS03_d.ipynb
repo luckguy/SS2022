{
  "nbformat": 4,
  "nbformat_minor": 0,
  "metadata": {
    "colab": {
      "name": "Untitled13.ipynb",
      "provenance": [],
      "authorship_tag": "ABX9TyPyjLaG2AJtfEtOOIzqI2eu",
      "include_colab_link": true
    },
    "kernelspec": {
      "name": "python3",
      "display_name": "Python 3"
    },
    "language_info": {
      "name": "python"
    }
  },
  "cells": [
    {
      "cell_type": "markdown",
      "metadata": {
        "id": "view-in-github",
        "colab_type": "text"
      },
      "source": [
        "<a href=\"https://colab.research.google.com/github/luckguy/SS2022/blob/main/SS03_d.ipynb\" target=\"_parent\"><img src=\"https://colab.research.google.com/assets/colab-badge.svg\" alt=\"Open In Colab\"/></a>"
      ]
    },
    {
      "cell_type": "markdown",
      "source": [
        "## 步階訊號 (Step Signal)\n",
        "\\begin{equation}\n",
        "u[n]=\\left\\{\\begin{array}{ll} 1 & n \\geq 0 \\\\ 0 & n<0 \\end{array} \\right.\n",
        "\\end{equation}"
      ],
      "metadata": {
        "id": "Z-CzSWIe56FQ"
      }
    },
    {
      "cell_type": "code",
      "execution_count": 1,
      "metadata": {
        "colab": {
          "base_uri": "https://localhost:8080/",
          "height": 297
        },
        "id": "i6SBsyck43Aj",
        "outputId": "dc17673d-0867-4dbf-ecbb-f232dfa7023b"
      },
      "outputs": [
        {
          "output_type": "execute_result",
          "data": {
            "text/plain": [
              "(-0.1, 1.1)"
            ]
          },
          "metadata": {},
          "execution_count": 1
        },
        {
          "output_type": "display_data",
          "data": {
            "image/png": "[encoded data removed]",
            "text/plain": [
              "<Figure size 432x288 with 1 Axes>"
            ]
          },
          "metadata": {
            "needs_background": "light"
          }
        }
      ],
      "source": [
        "import numpy as np\n",
        "import matplotlib.pyplot as plt\n",
        "def step(k):\n",
        "    return np.where(k >= 0, 1.0, 0.0)\n",
        "\n",
        "\n",
        "k = np.arange(-5, 20)\n",
        "x = step(k)\n",
        "\n",
        "plt.stem(k, x, use_line_collection=True)\n",
        "plt.xlabel('$n$')\n",
        "plt.ylabel('$u[n]$')\n",
        "plt.ylim([-0.1, 1.1])"
      ]
    },
    {
      "cell_type": "markdown",
      "source": [
        "## 脈衝訊號 (impulse signal)\n",
        "\n",
        "\\begin{equation}\n",
        "\\delta[n]=\\left\\{\\begin{array}{ll} 1 & n = 0 \\\\ 0 & n \\neq 0 \\end{array} \\right.\n",
        "\\end{equation}\n"
      ],
      "metadata": {
        "id": "6g9PunV-8Cai"
      }
    },
    {
      "cell_type": "code",
      "source": [
        "def impulse(k):\n",
        "    return np.where(k == 0, 1.0, 0.0)\n",
        "\n",
        "\n",
        "k = np.arange(-10, 11)\n",
        "x = impulse(k)\n",
        "plt.stem(k, x,use_line_collection=True)\n",
        "plt.xlabel('$n$')\n",
        "plt.ylabel('$\\delta[n]$')\n",
        "plt.ylim([-0.1, 1.1])"
      ],
      "metadata": {
        "id": "IH78Ny1c9KmP",
        "outputId": "0b12aeee-a561-4e70-c0bf-447c40b4b02c",
        "colab": {
          "base_uri": "https://localhost:8080/",
          "height": 297
        }
      },
      "execution_count": 2,
      "outputs": [
        {
          "output_type": "execute_result",
          "data": {
            "text/plain": [
              "(-0.1, 1.1)"
            ]
          },
          "metadata": {},
          "execution_count": 2
        },
        {
          "output_type": "display_data",
          "data": {
            "image/png": "[encoded data removed]",
            "text/plain": [
              "<Figure size 432x288 with 1 Axes>"
            ]
          },
          "metadata": {
            "needs_background": "light"
          }
        }
      ]
    }
  ]
}