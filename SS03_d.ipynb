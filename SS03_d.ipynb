{
  "nbformat": 4,
  "nbformat_minor": 0,
  "metadata": {
    "colab": {
      "name": "Untitled13.ipynb",
      "provenance": [],
      "authorship_tag": "ABX9TyMqUFsapyQtALjL4MVUycR1",
      "include_colab_link": true
    },
    "kernelspec": {
      "name": "python3",
      "display_name": "Python 3"
    },
    "language_info": {
      "name": "python"
    }
  },
  "cells": [
    {
      "cell_type": "markdown",
      "metadata": {
        "id": "view-in-github",
        "colab_type": "text"
      },
      "source": [
        "<a href=\"https://colab.research.google.com/github/luckguy/SS2022/blob/main/SS03_d.ipynb\" target=\"_parent\"><img src=\"https://colab.research.google.com/assets/colab-badge.svg\" alt=\"Open In Colab\"/></a>"
      ]
    },
    {
      "cell_type": "markdown",
      "source": [
        "## 步階訊號 (Step Signal)\n",
        "\\begin{equation}\n",
        "u[n]=\\left\\{\\begin{array}{ll} 1 & n \\geq 0 \\\\ 0 & n<0 \\end{array} \\right.\n",
        "\\end{equation}"
      ],
      "metadata": {
        "id": "Z-CzSWIe56FQ"
      }
    },
    {
      "cell_type": "code",
      "execution_count": 3,
      "metadata": {
        "colab": {
          "base_uri": "https://localhost:8080/",
          "height": 299
        },
        "id": "i6SBsyck43Aj",
        "outputId": "041bfb27-8a7f-4041-e629-b1be04df6726"
      },
      "outputs": [
        {
          "output_type": "execute_result",
          "data": {
            "text/plain": [
              "(-0.1, 1.1)"
            ]
          },
          "metadata": {},
          "execution_count": 3
        },
        {
          "output_type": "display_data",
          "data": {
            "image/png": "[encoded data removed]",
            "text/plain": [
              "<Figure size 432x288 with 1 Axes>"
            ]
          },
          "metadata": {
            "needs_background": "light"
          }
        }
      ],
      "source": [
        "import numpy as np\n",
        "import matplotlib.pyplot as plt\n",
        "def step(k):\n",
        "    return np.where(k >= 0, 1.0, 0.0)\n",
        "\n",
        "\n",
        "k = np.arange(-5, 20)\n",
        "x = step(k)\n",
        "\n",
        "plt.stem(k, x, use_line_collection=True)\n",
        "plt.xlabel('$k$')\n",
        "plt.ylabel('$u[k]$')\n",
        "plt.ylim([-0.1, 1.1])"
      ]
    },
    {
      "cell_type": "markdown",
      "source": [
        "## 脈衝訊號 (impulse signal)\n",
        "\n",
        "\\begin{equation}\n",
        "\\delta[n]=\\left\\{\\begin{array}{ll} 1 & n = 0 \\\\ 0 & n \\neq 0 \\end{array} \\right.\n",
        "\\end{equation}\n"
      ],
      "metadata": {
        "id": "6g9PunV-8Cai"
      }
    }
  ]
}