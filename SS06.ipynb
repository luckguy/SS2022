{
  "cells": [
    {
      "cell_type": "markdown",
      "metadata": {
        "id": "view-in-github",
        "colab_type": "text"
      },
      "source": [
        "<a href=\"https://colab.research.google.com/github/luckguy/SS2022/blob/main/SS06.ipynb\" target=\"_parent\"><img src=\"https://colab.research.google.com/assets/colab-badge.svg\" alt=\"Open In Colab\"/></a>"
      ]
    },
    {
      "cell_type": "markdown",
      "metadata": {
        "nbsphinx": "hidden",
        "id": "xmmyy3qbKXAb"
      },
      "source": [
        "# 離散時間LTI 系統在時間上的關係式\n",
        "\n"
      ]
    },
    {
      "cell_type": "markdown",
      "metadata": {
        "id": "52arWBqOKXAf"
      },
      "source": [
        "### 線性常係數差分方程式\n",
        "\n",
        "輸入訊號 $x[n]$ 與輸出訊號 $y[n] 之關係可使用線性常係數差分方程式描述。 $a_n, b_m \\in \\mathbb{C}$ reads\n",
        "\n",
        "\\begin{equation}\n",
        "\\sum_{k = 0}^{N} a_k \\; y[n - k] = \\sum_{m = 0}^{M} b_m \\; x[n -m]\n",
        "\\end{equation}\n",
        "\n",
        "with $a_N \\neq 0$. The order of the difference equation is given by $N$. For a unique solution of the difference equation, $N$ initial conditions are required. Under the assumption that the input signal of the system $x[k] = 0$ for $k < 0$ these are given by $y[0], y[-1], \\dots, y[-N + 1]$. Other cases can be handled accordingly."
      ]
    },
    {
      "cell_type": "markdown",
      "metadata": {
        "id": "wQfpKJv0KXAf"
      },
      "source": [
        "### Linear Time-Invariant Systems\n",
        "\n",
        "LTI systems are an important class of systems. In order to show that linear difference equations with constant coefficients represent LTI systems, the linearity and time-invariance property has to be checked. A system is linear when the superposition principle holds\n",
        "\n",
        "\\begin{equation}\n",
        "\\mathcal{H} \\{ A x_1[k] + B x_2[k] \\} = A \\cdot \\mathcal{H} \\{ x_1[k] \\} + B \\cdot \\mathcal{H} \\{ x_2[k] \\}\n",
        "\\end{equation}\n",
        "\n",
        "for arbitraty signals $x_1[k], x_2[k] \\in \\mathbb{C}$ and coefficients $A, B \\in \\mathbb{C}$. Above condition is fulfilled by a linear difference equation, since the [summation](https://en.wikipedia.org/wiki/Summation) on left- and right-hand side is a linear operation. A system is time-invariant when\n",
        "\n",
        "\\begin{equation}\n",
        "y[k - \\kappa] = \\mathcal{H} \\{ x[k - \\kappa] \\}\n",
        "\\end{equation}\n",
        "\n",
        "with $y[k] = \\mathcal{H} \\{ x[k] \\}$ holds for $\\kappa \\in \\mathbb{Z}$. Substituting $k$ by $k -\\kappa$ in above linear difference equation shows that the time-invariance is fulfilled."
      ]
    },
    {
      "cell_type": "markdown",
      "metadata": {
        "id": "HsykYcSjKXAg"
      },
      "source": [
        "### Computation of the Output Signal\n",
        "\n",
        "The solution of above difference equation is derived by extracting $y[k]$ from the sum on the left-hand-side and rearranging terms. This results in\n",
        "\n",
        "\\begin{equation}\n",
        "y[k] = \\frac{1}{a_0} \\left( \\sum_{m=0}^{M} b_m \\; x[k-m] - \\sum_{n=1}^{N} a_n \\; y[k-n] \\right)\n",
        "\\end{equation}\n",
        "\n",
        "for $a_0 \\neq 0$. The output signal is given by a weighted superposition of the actual and past samples of the input signal $x[k]$ and past samples of the output signal $y[k]$. The second sum is known as *recursive* part since it can be interpreted as a feedback of past output samples. The dependency on the input samples (the first sum) is known as *non-recursive* part.\n",
        "\n",
        "It can be concluded that linear difference equations with constant coefficients represent LTI systems. The coefficients together with the initial conditions characterize an LTI system fully. However, not all LTI systems can be described by linear difference equations of finite order $N$. Idealized systems may result in a linear difference equation of infinite order, for instance."
      ]
    },
    {
      "cell_type": "markdown",
      "metadata": {
        "id": "VulBcuMqKXAg"
      },
      "source": [
        "### Recursive and Non-Recursive Systems\n",
        "\n",
        "Above analysis of the solution of a linear difference equation revealed two contributions to the output signal $y[k]$: a non-recursive part which depends only on the current and past input samples $x[k]$ and a recursive part which depends on past output samples $y[k]$. A system is said to be\n",
        "\n",
        "* non-recursive if its output depends only on the input signal $x[k]$. This implies that $a_n = 0$ for $n > 0$.\n",
        "* recursive if its output depends on the input signal $x[k]$ and past output samples $y[k]$. This implies that at least one $a_n \\neq 0$ for $n > 0$.\n",
        "\n",
        "The classification into non-recursive and recursive systems has far reaching implications on the theory and practical realization of recursive systems. The feedback of past output samples in recursive systems for instance, may lead to instabilities and numerical issues. The former are discussed in detail later."
      ]
    },
    {
      "cell_type": "markdown",
      "metadata": {
        "id": "NzL3JhcoKXAh"
      },
      "source": [
        "#### 延遲系統\n",
        "\n",
        "The output signal $y[n] = \\mathcal{H} \\{ x[n] \\}$ of a discrete system which delays the input $x[n]$ by $N_0$ \\in \\mathbb{N}$ samples is given as\n",
        "\n",
        "\\begin{equation}\n",
        "y[n] = x[n - N_0]\n",
        "\\end{equation}\n",
        "\n",
        "The order of the system is $N=0$. The coefficients of the linear difference equation read\n",
        "\n",
        "\\begin{align}\n",
        "a_0 &= 1 \\\\\n",
        "b_m &= \\begin{cases}\n",
        "1 & \\text{for } m=N_0 \\\\\n",
        "0 & \\text{otherwise}\n",
        "\\end{cases}\n",
        "\\end{align}\n",
        "\n",
        "The system is non-recursive as can be deduced from its coefficients.\n",
        "\n",
        "The output signal $y[k]$ for a cosine signal at the input $x[k] = \\cos[\\Omega k]$ is computed by solving the difference equation for zero initial conditions and $\\kappa = 5$. The Python module [`scipy.signal`](http://docs.scipy.org/doc/scipy/reference/signal.html) offers various functionality for continuous and discrete systems. The function [`scipy.signal.filter`](http://docs.scipy.org/doc/scipy/reference/generated/scipy.signal.lfilter.html#scipy.signal.lfilter) implements above formula for the computation of the output signal $y[k]$ of a discrete LTI system given its coefficients and initial conditions. The coefficients $a_n$ and $b_m$ of the system are stored in the vectors `a` and `b`."
      ]
    },
    {
      "cell_type": "code",
      "execution_count": 6,
      "metadata": {
        "id": "OI3dnfb2KXAi"
      },
      "outputs": [],
      "source": [
        "import numpy as np\n",
        "from scipy import signal\n",
        "import matplotlib.pyplot as plt\n",
        "%matplotlib inline\n",
        "\n",
        "# 延遲系統 y[n]=x[n-4]\n",
        "a = 1.0               # a 為 y[n] 係數\n",
        "b = [0.0, 0.0, 0.0, 0.0, 1.0] # b 為 x[n] 係數\n",
        "\n",
        "n = np.arange(30)\n",
        "x = np.cos(2*np.pi/15 * n)\n",
        "y = signal.lfilter(b, a, x)"
      ]
    },
    {
      "cell_type": "markdown",
      "metadata": {
        "id": "4t6lWTkpKXAj"
      },
      "source": [
        "將輸入訊號 $x[n]$ 與輸出 $y[n]$ 劃出."
      ]
    },
    {
      "cell_type": "code",
      "execution_count": 7,
      "metadata": {
        "id": "22nGBRzjKXAk",
        "outputId": "d091dde5-b992-4540-93be-c2d76df84680",
        "colab": {
          "base_uri": "https://localhost:8080/",
          "height": 297
        }
      },
      "outputs": [
        {
          "output_type": "display_data",
          "data": {
            "image/png": "[encoded data removed]",
            "text/plain": [
              "<Figure size 720x288 with 2 Axes>"
            ]
          },
          "metadata": {
            "needs_background": "light"
          }
        }
      ],
      "source": [
        "plt.figure(figsize=(10, 4))\n",
        "plt.subplot(121)\n",
        "plt.stem(n, x, use_line_collection=True)\n",
        "plt.xlabel('$n$')\n",
        "plt.ylabel(r'$x[n]$')\n",
        "plt.ylim([-1.1, 1.1])\n",
        "\n",
        "plt.subplot(122)\n",
        "plt.stem(n, y, use_line_collection=True)\n",
        "plt.xlabel('$n$')\n",
        "plt.ylabel('$y[n]$')\n",
        "plt.ylim([-1.1, 1.1])\n",
        "plt.tight_layout()"
      ]
    },
    {
      "cell_type": "markdown",
      "metadata": {
        "id": "JaGOpdO8KXAl"
      },
      "source": [
        "#### 移動平均器\n",
        "\n",
        "The [moving average](https://en.wikipedia.org/wiki/Moving_average) of a time-series is frequently used to smooth out short-term fluctuations in order to emphasize longer-term trends. A system which calculates the moving average of its input signal $x[k]$ is represented by\n",
        "\n",
        "\\begin{equation}\n",
        "y[n] = \\frac{1}{M} \\sum_{k = 0}^{M-1} x[n - k]\n",
        "\\end{equation}\n",
        "\n",
        "The order of the system is $N=0$. The coefficients of the linear difference equation read\n",
        "\n",
        "\\begin{align}\n",
        "a_0 &= 1 \\\\\n",
        "b_m &= \\begin{cases}\n",
        "\\frac{1}{M} & \\text{for } 0 \\leq m < M \\\\\n",
        "0 & \\text{otherwise}\n",
        "\\end{cases}\n",
        "\\end{align}\n",
        "\n",
        "The system is non-recursive as can be deduced from its coefficients. The output of the system for a cosine signal at the input superimposed with noise is computed as illustration of the functionality of the moving average."
      ]
    },
    {
      "cell_type": "code",
      "execution_count": 10,
      "metadata": {
        "id": "sd01AgUcKXAl",
        "outputId": "a3dd4c34-e956-4a4b-a47a-0686ad88bef1",
        "colab": {
          "base_uri": "https://localhost:8080/",
          "height": 297
        }
      },
      "outputs": [
        {
          "output_type": "display_data",
          "data": {
            "image/png": "[encoded data removed]",
            "text/plain": [
              "<Figure size 720x288 with 2 Axes>"
            ]
          },
          "metadata": {
            "needs_background": "light"
          }
        }
      ],
      "source": [
        "np.random.seed(seed=0)\n",
        "\n",
        "M = 10\n",
        "a = [1.0]\n",
        "b = 1/M * np.ones(M)\n",
        "\n",
        "n = np.arange(0, 60)\n",
        "x = np.cos(2*np.pi/30 * n) + .2 * np.random.normal(size=(len(n)))\n",
        "y = signal.lfilter(b, a, x)\n",
        "\n",
        "plt.figure(figsize=(10, 4))\n",
        "plt.subplot(121)\n",
        "plt.stem(n, x,use_line_collection=True)\n",
        "plt.xlabel('$n$')\n",
        "plt.ylabel(r'$x[n]$')\n",
        "plt.ylim([-1.5, 1.5])\n",
        "\n",
        "plt.subplot(122)\n",
        "plt.stem(n, y,use_line_collection=True)\n",
        "plt.xlabel('$n$')\n",
        "plt.ylabel('$y[n]$')\n",
        "plt.ylim([-1.5, 1.5])\n",
        "plt.tight_layout()"
      ]
    },
    {
      "cell_type": "markdown",
      "metadata": {
        "id": "MuVARBYdKXAm"
      },
      "source": [
        "#### 二階系統 \n",
        "\n",
        "The recursive LTI system with the 底下二階線性差分方程式\n",
        "\n",
        "\\begin{equation}\n",
        "y[n] - y[n-1] + \\frac{1}{2} y[n-2] = x[n]\n",
        "\\end{equation}\n",
        "\n",
        "The order of the system is $N=2$. The coefficients of the system can be derived from its difference equation as $a_0 = 1$, $a_1 = -1$, $a_2 = \\frac{1}{2}$ and $b_0 = 1$. The output signal for a rectangular signal at the input $x[n] = \\text{rect}_{20}[n]$ is computed and plotted for zero initial conditions."
      ]
    },
    {
      "cell_type": "code",
      "execution_count": 11,
      "metadata": {
        "id": "Bxr3xWxSKXAm",
        "outputId": "e1667043-2112-42ef-a470-bdcccbc26caf",
        "colab": {
          "base_uri": "https://localhost:8080/",
          "height": 297
        }
      },
      "outputs": [
        {
          "output_type": "display_data",
          "data": {
            "image/png": "[encoded data removed]",
            "text/plain": [
              "<Figure size 720x288 with 2 Axes>"
            ]
          },
          "metadata": {
            "needs_background": "light"
          }
        }
      ],
      "source": [
        "def rect(k, N):\n",
        "    return np.where((k >= 0) & (k < N), 1.0, 0.0)\n",
        "\n",
        "\n",
        "# LTI 系統\n",
        "a = [1.0, -1.0, 1/2]\n",
        "b = [1.0]\n",
        "\n",
        "n = np.arange(0, 40)\n",
        "x = rect(n, 20)\n",
        "y = signal.lfilter(b, a, x)\n",
        "\n",
        "plt.figure(figsize=(10, 4))\n",
        "plt.subplot(121)\n",
        "plt.stem(n, x,use_line_collection=True)\n",
        "plt.xlabel('$n$')\n",
        "plt.ylabel(r'$x[n]$')\n",
        "plt.ylim([-0.7, 2.6])\n",
        "\n",
        "plt.subplot(122)\n",
        "plt.stem(n, y, use_line_collection=True)\n",
        "plt.xlabel('$n$')\n",
        "plt.ylabel('$y[n]$')\n",
        "plt.ylim([-0.7, 2.6])\n",
        "plt.tight_layout()"
      ]
    }
  ],
  "metadata": {
    "kernelspec": {
      "display_name": "Python 3",
      "language": "python",
      "name": "python3"
    },
    "language_info": {
      "codemirror_mode": {
        "name": "ipython",
        "version": 3
      },
      "file_extension": ".py",
      "mimetype": "text/x-python",
      "name": "python",
      "nbconvert_exporter": "python",
      "pygments_lexer": "ipython3",
      "version": "3.7.3"
    },
    "colab": {
      "name": "difference_equation.ipynb",
      "provenance": [],
      "include_colab_link": true
    }
  },
  "nbformat": 4,
  "nbformat_minor": 0
}