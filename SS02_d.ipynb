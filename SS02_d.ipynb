{
  "cells": [
    {
      "cell_type": "markdown",
      "metadata": {
        "id": "view-in-github",
        "colab_type": "text"
      },
      "source": [
        "<a href=\"https://colab.research.google.com/github/luckguy/SS2022/blob/main/SS02_d.ipynb\" target=\"_parent\"><img src=\"https://colab.research.google.com/assets/colab-badge.svg\" alt=\"Open In Colab\"/></a>"
      ]
    },
    {
      "cell_type": "markdown",
      "source": [
        "#<font color=blue>離散時間複數弦波訊號</font>\n"
      ],
      "metadata": {
        "id": "rrVTzT5EgAkb"
      }
    },
    {
      "cell_type": "markdown",
      "metadata": {
        "id": "kJjk28gGlVrn"
      },
      "source": [
        "### Complex Exponential Signal\n",
        "\n",
        "The discrete complex exponential signal is defined by the [complex exponential function](https://en.wikipedia.org/wiki/Exponential_function#Complex_plane)\n",
        "\n",
        "\\begin{equation}\n",
        "x[k] = e^{(\\Sigma + j \\Omega) \\, k} = z^k\n",
        "\\end{equation}\n",
        "\n",
        "where $z = e^{\\Sigma + j \\Omega}$ denotes the complex frequency $z \\in \\mathbb{C}$ with $\\Sigma, \\Omega \\in \\mathbb{R}$. The discrete complex exponential signal can be related to the [continuous complex exponential signal](../continuous_signals/standard_signals.ipynb#Complex-Exponential-Signal) $x(t) = e^{(\\sigma + j \\omega) t}$ by sampling\n",
        "\n",
        "\\begin{equation}\n",
        "x[k] = x(k T) = e^{(\\sigma + j \\omega) k T} = e^{( \\sigma T + j \\omega T ) k}\n",
        "\\end{equation}\n",
        "\n",
        "where $T$ denotes the sampling interval. Comparison to above definition of the discrete signal reveals that $\\Sigma = \\sigma T$ and $\\Omega = \\omega T$. Due to this relation, the latter is termed as *normalized frequency* $\\Omega$. Using [Euler's formula](https://en.wikipedia.org/wiki/Euler's_formula), the definition of the complex exponential signal can be reformulated as\n",
        "\n",
        "\\begin{equation}\n",
        "x[k] = e^{\\Sigma k} \\cos[\\Omega k] + j e^{\\Sigma k} \\sin[\\Omega k]\n",
        "\\end{equation}\n",
        "\n",
        "The real/imaginary part of the exponential signal is given by a weighted discrete cosine/sine with normalized frequency $\\Omega$. The normalized frequency $\\Omega$ is ambiguous due to the periodicity of the cosine/sine function for discrete $k$. For instance\n",
        "\n",
        "\\begin{equation}\n",
        "\\cos[\\Omega k] = \\cos[(\\Omega + n \\cdot 2 \\pi) \\cdot k]\n",
        "\\end{equation}\n",
        "\n",
        "with $n \\in \\mathbb{Z}$. It can be concluded that the normalized frequency $\\Omega$ is unique for $-\\pi < \\Omega < \\pi$. This also becomes evident when considering the sampling of a continuous exponential signal, as shown above. For [critical sampling](../sampling/ideal.ipynb#Sampling-Theorem-for-Low-Pass-Signals) the sampling frequency $\\omega_\\text{s} = 2 \\cdot \\omega$. From $T = \\frac{2 \\pi}{\\omega_\\text{s}}$ follows $\\Omega = \\omega T = \\pi$. It can be concluded that the normalized frequency $\\Omega = \\pm \\pi$ represents the highest/lowest normalized frequency a sampled signal can represent.\n",
        "\n",
        "The complex exponential function is only periodic with respect to the discrete index $k$, if\n",
        "\n",
        "\\begin{equation}\n",
        "x[k] = x[k + n \\cdot N_\\text{p}]\n",
        "\\end{equation}\n",
        "\n",
        "holds for $n \\in \\mathbb{Z}$ and $N_\\text{p} \\in \\mathbb{N}$. The periodicity of the complex exponential function is given as\n",
        "\n",
        "\\begin{equation}\n",
        "N_\\text{p} = \\frac{2 \\pi}{\\Omega}\n",
        "\\end{equation}\n",
        "\n",
        "It follows from the requirement $N_\\text{p} \\in \\mathbb{N}$ for a periodic sequence, that not all normalized frequencies $\\Omega$ result in a periodic discrete complex exponential signal. Only $\\Omega = \\frac{2 \\pi}{N_\\text{p}}$ with $N_\\text{p} \\in \\mathbb{N}$ is periodic with period $N_\\text{p}$. Sampling of a continuous complex exponential signal may result in an aperiodic discrete complex exponential signal.\n",
        "\n",
        "The complex exponential signal can be expressed in terms of its magnitude and phase\n",
        "\n",
        "\\begin{equation}\n",
        "x[k] = z^k = |z|^k \\cdot e^{j \\varphi(z) k}\n",
        "\\end{equation}\n",
        "\n",
        "where by comparison with its definition $|z| = |e^\\Sigma|$ and $\\varphi(z) = \\Omega$. This finding allows an interpretation of the complex frequency $z$. Its phase $\\varphi(z)$ is equal to the normalized frequency $\\Omega$ of its harmonic part $e^{j \\Omega k}$. This is weighted by the magnitude $|z|^k$. With increasing index $k >0$, the magnitude of the complex exponential signal is\n",
        "\n",
        "* exponentially decaying for $|z| < 1$ ($\\Sigma < 0$)\n",
        "* constantly one for $|z| = 1$ ($\\Sigma = 0$)\n",
        "* exponentially growing for $|z| > 1$ ($\\Sigma > 0$)."
      ]
    },
    {
      "cell_type": "code",
      "execution_count": 12,
      "metadata": {
        "id": "LLYQePVZlVrp"
      },
      "outputs": [],
      "source": [
        "import numpy as np\n",
        "import matplotlib.pyplot as plt\n",
        "%matplotlib inline\n",
        "\n",
        "\n",
        "def exponential_signal(k, Sigma, Omega):\n",
        "    return np.exp((Sigma + 1j * Omega) * k)\n",
        "\n",
        "def plot_real_signal(k,x):\n",
        "    plot.figure(figsize=(10,4))\n",
        "    plt.stem(k,np.real(x),use_line_collection=True)\n",
        "    plot.xlabel('$n$')\n",
        "    plot.ylabel(r'$x[n]$')\n",
        "    \n",
        "def plot_complex_signal(k, x):\n",
        "    plt.figure(figsize=(10, 4))\n",
        "    plt.subplot(121)\n",
        "    plt.stem(k, np.real(x), use_line_collection=True)\n",
        "    plt.xlabel('$n$')\n",
        "    plt.ylabel(r'$\\Re \\{ x[n] \\}$')\n",
        "\n",
        "    plt.subplot(122)\n",
        "    plt.stem(k, np.imag(x), use_line_collection=True)\n",
        "    plt.xlabel('$n$')\n",
        "    plt.ylabel(r'$\\Im \\{ x[n] \\}$')\n",
        "    plt.tight_layout()"
      ]
    },
    {
      "cell_type": "code",
      "execution_count": 13,
      "metadata": {
        "outputId": "f891bdd7-6936-469c-a6de-525d341d63d6",
        "colab": {
          "base_uri": "https://localhost:8080/",
          "height": 336
        },
        "id": "OhwN8FvcOO6v"
      },
      "outputs": [
        {
          "output_type": "error",
          "ename": "NameError",
          "evalue": "ignored",
          "traceback": [
            "\u001b[0;31m---------------------------------------------------------------------------\u001b[0m",
            "\u001b[0;31mNameError\u001b[0m                                 Traceback (most recent call last)",
            "\u001b[0;32m<ipython-input-13-9936e94d34ae>\u001b[0m in \u001b[0;36m<module>\u001b[0;34m()\u001b[0m\n\u001b[1;32m      1\u001b[0m \u001b[0mk\u001b[0m \u001b[0;34m=\u001b[0m \u001b[0mnp\u001b[0m\u001b[0;34m.\u001b[0m\u001b[0marange\u001b[0m\u001b[0;34m(\u001b[0m\u001b[0;36m31\u001b[0m\u001b[0;34m)\u001b[0m\u001b[0;34m\u001b[0m\u001b[0;34m\u001b[0m\u001b[0m\n\u001b[1;32m      2\u001b[0m \u001b[0mx\u001b[0m \u001b[0;34m=\u001b[0m \u001b[0mexponential_signal\u001b[0m\u001b[0;34m(\u001b[0m\u001b[0mk\u001b[0m\u001b[0;34m,\u001b[0m \u001b[0;36m0.025\u001b[0m\u001b[0;34m,\u001b[0m \u001b[0;36m0\u001b[0m\u001b[0;34m)\u001b[0m\u001b[0;34m\u001b[0m\u001b[0;34m\u001b[0m\u001b[0m\n\u001b[0;32m----> 3\u001b[0;31m \u001b[0mplot_real_signal\u001b[0m\u001b[0;34m(\u001b[0m\u001b[0mk\u001b[0m\u001b[0;34m,\u001b[0m\u001b[0mx\u001b[0m\u001b[0;34m)\u001b[0m\u001b[0;34m\u001b[0m\u001b[0;34m\u001b[0m\u001b[0m\n\u001b[0m",
            "\u001b[0;32m<ipython-input-12-9379febb9b3f>\u001b[0m in \u001b[0;36mplot_real_signal\u001b[0;34m(k, x)\u001b[0m\n\u001b[1;32m      8\u001b[0m \u001b[0;34m\u001b[0m\u001b[0m\n\u001b[1;32m      9\u001b[0m \u001b[0;32mdef\u001b[0m \u001b[0mplot_real_signal\u001b[0m\u001b[0;34m(\u001b[0m\u001b[0mk\u001b[0m\u001b[0;34m,\u001b[0m\u001b[0mx\u001b[0m\u001b[0;34m)\u001b[0m\u001b[0;34m:\u001b[0m\u001b[0;34m\u001b[0m\u001b[0;34m\u001b[0m\u001b[0m\n\u001b[0;32m---> 10\u001b[0;31m     \u001b[0mplot\u001b[0m\u001b[0;34m.\u001b[0m\u001b[0mfigure\u001b[0m\u001b[0;34m(\u001b[0m\u001b[0mfigsize\u001b[0m\u001b[0;34m=\u001b[0m\u001b[0;34m(\u001b[0m\u001b[0;36m10\u001b[0m\u001b[0;34m,\u001b[0m\u001b[0;36m4\u001b[0m\u001b[0;34m)\u001b[0m\u001b[0;34m)\u001b[0m\u001b[0;34m\u001b[0m\u001b[0;34m\u001b[0m\u001b[0m\n\u001b[0m\u001b[1;32m     11\u001b[0m     \u001b[0mplt\u001b[0m\u001b[0;34m.\u001b[0m\u001b[0mstem\u001b[0m\u001b[0;34m(\u001b[0m\u001b[0mk\u001b[0m\u001b[0;34m,\u001b[0m\u001b[0mnp\u001b[0m\u001b[0;34m.\u001b[0m\u001b[0mreal\u001b[0m\u001b[0;34m(\u001b[0m\u001b[0mx\u001b[0m\u001b[0;34m)\u001b[0m\u001b[0;34m,\u001b[0m\u001b[0muse_line_collection\u001b[0m\u001b[0;34m=\u001b[0m\u001b[0;32mTrue\u001b[0m\u001b[0;34m)\u001b[0m\u001b[0;34m\u001b[0m\u001b[0;34m\u001b[0m\u001b[0m\n\u001b[1;32m     12\u001b[0m     \u001b[0mplot\u001b[0m\u001b[0;34m.\u001b[0m\u001b[0mxlabel\u001b[0m\u001b[0;34m(\u001b[0m\u001b[0;34m'$n$'\u001b[0m\u001b[0;34m)\u001b[0m\u001b[0;34m\u001b[0m\u001b[0;34m\u001b[0m\u001b[0m\n",
            "\u001b[0;31mNameError\u001b[0m: name 'plot' is not defined"
          ]
        }
      ],
      "source": [
        "k = np.arange(31)\n",
        "x = exponential_signal(k, 0.025, 0)\n",
        "plot_real_signal(k,x)\n"
      ]
    },
    {
      "cell_type": "markdown",
      "source": [
        "Case 1: $z$ 為實數"
      ],
      "metadata": {
        "id": "ZwPRpo1CNc49"
      }
    },
    {
      "cell_type": "code",
      "source": [
        ""
      ],
      "metadata": {
        "id": "0_Nb2M6ON0DL"
      },
      "execution_count": null,
      "outputs": []
    },
    {
      "cell_type": "code",
      "execution_count": 6,
      "metadata": {
        "outputId": "eed1a67e-eafb-4241-ae29-e5b550a54d32",
        "colab": {
          "base_uri": "https://localhost:8080/",
          "height": 209
        },
        "id": "1_Uql52MN0Yl"
      },
      "outputs": [
        {
          "output_type": "error",
          "ename": "NameError",
          "evalue": "ignored",
          "traceback": [
            "\u001b[0;31m---------------------------------------------------------------------------\u001b[0m",
            "\u001b[0;31mNameError\u001b[0m                                 Traceback (most recent call last)",
            "\u001b[0;32m<ipython-input-6-9936e94d34ae>\u001b[0m in \u001b[0;36m<module>\u001b[0;34m()\u001b[0m\n\u001b[1;32m      1\u001b[0m \u001b[0mk\u001b[0m \u001b[0;34m=\u001b[0m \u001b[0mnp\u001b[0m\u001b[0;34m.\u001b[0m\u001b[0marange\u001b[0m\u001b[0;34m(\u001b[0m\u001b[0;36m31\u001b[0m\u001b[0;34m)\u001b[0m\u001b[0;34m\u001b[0m\u001b[0;34m\u001b[0m\u001b[0m\n\u001b[1;32m      2\u001b[0m \u001b[0mx\u001b[0m \u001b[0;34m=\u001b[0m \u001b[0mexponential_signal\u001b[0m\u001b[0;34m(\u001b[0m\u001b[0mk\u001b[0m\u001b[0;34m,\u001b[0m \u001b[0;36m0.025\u001b[0m\u001b[0;34m,\u001b[0m \u001b[0;36m0\u001b[0m\u001b[0;34m)\u001b[0m\u001b[0;34m\u001b[0m\u001b[0;34m\u001b[0m\u001b[0m\n\u001b[0;32m----> 3\u001b[0;31m \u001b[0mplot_real_signal\u001b[0m\u001b[0;34m(\u001b[0m\u001b[0mk\u001b[0m\u001b[0;34m,\u001b[0m\u001b[0mx\u001b[0m\u001b[0;34m)\u001b[0m\u001b[0;34m\u001b[0m\u001b[0;34m\u001b[0m\u001b[0m\n\u001b[0m",
            "\u001b[0;31mNameError\u001b[0m: name 'plot_real_signal' is not defined"
          ]
        }
      ],
      "source": [
        "k = np.arange(31)\n",
        "x = exponential_signal(k, 0.025, 0)\n",
        "plot_real_signal(k,x)\n"
      ]
    },
    {
      "cell_type": "code",
      "execution_count": 2,
      "metadata": {
        "id": "giPJdrmtlVrq",
        "colab": {
          "base_uri": "https://localhost:8080/",
          "height": 297
        },
        "outputId": "08805e7f-fd72-4033-fb8e-9455bf7ea013"
      },
      "outputs": [
        {
          "output_type": "display_data",
          "data": {
            "image/png": "[encoded data removed]",
            "text/plain": [
              "<Figure size 720x288 with 2 Axes>"
            ]
          },
          "metadata": {
            "needs_background": "light"
          }
        }
      ],
      "source": [
        "k = np.arange(31)\n",
        "x = exponential_signal(k, 0.025, 0.5)\n",
        "plot_signal(k,x)\n"
      ]
    }
  ],
  "metadata": {
    "kernelspec": {
      "display_name": "Python 3",
      "language": "python",
      "name": "python3"
    },
    "language_info": {
      "codemirror_mode": {
        "name": "ipython",
        "version": 3
      },
      "file_extension": ".py",
      "mimetype": "text/x-python",
      "name": "python",
      "nbconvert_exporter": "python",
      "pygments_lexer": "ipython3",
      "version": "3.7.10"
    },
    "colab": {
      "name": "SS02.ipynb",
      "provenance": [],
      "include_colab_link": true
    }
  },
  "nbformat": 4,
  "nbformat_minor": 0
}