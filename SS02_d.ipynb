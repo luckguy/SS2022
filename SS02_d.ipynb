{
  "cells": [
    {
      "cell_type": "markdown",
      "metadata": {
        "id": "view-in-github",
        "colab_type": "text"
      },
      "source": [
        "<a href=\"https://colab.research.google.com/github/luckguy/SS2022/blob/main/SS02_d.ipynb\" target=\"_parent\"><img src=\"https://colab.research.google.com/assets/colab-badge.svg\" alt=\"Open In Colab\"/></a>"
      ]
    },
    {
      "cell_type": "markdown",
      "source": [
        "#<font color=blue>離散時間複數弦波訊號</font>\n"
      ],
      "metadata": {
        "id": "rrVTzT5EgAkb"
      }
    },
    {
      "cell_type": "markdown",
      "metadata": {
        "id": "kJjk28gGlVrn"
      },
      "source": [
        "### Complex Exponential Signal\n",
        "\n",
        "The discrete complex exponential signal is defined by the [complex exponential function](https://en.wikipedia.org/wiki/Exponential_function#Complex_plane)\n",
        "\n",
        "\\begin{equation}\n",
        "x[n] = e^{(\\beta + j \\Omega_0) \\, n} = z^n\n",
        "\\end{equation}\n",
        "\n",
        "where $z = e^{\\beta + j \\Omega_0}$ denotes the complex frequency $z \\in \\mathbb{C}$ with $\\Sigma, \\Omega \\in \\mathbb{R}$. The discrete complex exponential signal can be related to the [continuous complex exponential signal](../continuous_signals/standard_signals.ipynb#Complex-Exponential-Signal) $x(t) = e^{(\\sigma + j \\omega) t}$ by sampling\n",
        "\n",
        "\\begin{equation}\n",
        "x[k] = x(k T) = e^{(\\sigma + j \\omega) k T} = e^{( \\sigma T + j \\omega T ) k}\n",
        "\\end{equation}\n",
        "\n",
        "where $T$ denotes the sampling interval. Comparison to above definition of the discrete signal reveals that $\\Sigma = \\sigma T$ and $\\Omega = \\omega T$. Due to this relation, the latter is termed as *normalized frequency* $\\Omega$. Using [Euler's formula](https://en.wikipedia.org/wiki/Euler's_formula), the definition of the complex exponential signal can be reformulated as\n",
        "\n",
        "\\begin{equation}\n",
        "x[k] = e^{\\Sigma k} \\cos[\\Omega k] + j e^{\\Sigma k} \\sin[\\Omega k]\n",
        "\\end{equation}\n",
        "\n",
        "The real/imaginary part of the exponential signal is given by a weighted discrete cosine/sine with normalized frequency $\\Omega$. The normalized frequency $\\Omega$ is ambiguous due to the periodicity of the cosine/sine function for discrete $k$. For instance\n",
        "\n",
        "\\begin{equation}\n",
        "\\cos[\\Omega k] = \\cos[(\\Omega + n \\cdot 2 \\pi) \\cdot k]\n",
        "\\end{equation}\n",
        "\n",
        "with $n \\in \\mathbb{Z}$. It can be concluded that the normalized frequency $\\Omega$ is unique for $-\\pi < \\Omega < \\pi$. This also becomes evident when considering the sampling of a continuous exponential signal, as shown above. For [critical sampling](../sampling/ideal.ipynb#Sampling-Theorem-for-Low-Pass-Signals) the sampling frequency $\\omega_\\text{s} = 2 \\cdot \\omega$. From $T = \\frac{2 \\pi}{\\omega_\\text{s}}$ follows $\\Omega = \\omega T = \\pi$. It can be concluded that the normalized frequency $\\Omega = \\pm \\pi$ represents the highest/lowest normalized frequency a sampled signal can represent.\n",
        "\n",
        "The complex exponential function is only periodic with respect to the discrete index $k$, if\n",
        "\n",
        "\\begin{equation}\n",
        "x[k] = x[k + n \\cdot N_\\text{p}]\n",
        "\\end{equation}\n",
        "\n",
        "holds for $n \\in \\mathbb{Z}$ and $N_\\text{p} \\in \\mathbb{N}$. The periodicity of the complex exponential function is given as\n",
        "\n",
        "\\begin{equation}\n",
        "N_\\text{p} = \\frac{2 \\pi}{\\Omega}\n",
        "\\end{equation}\n",
        "\n",
        "It follows from the requirement $N_\\text{p} \\in \\mathbb{N}$ for a periodic sequence, that not all normalized frequencies $\\Omega$ result in a periodic discrete complex exponential signal. Only $\\Omega = \\frac{2 \\pi}{N_\\text{p}}$ with $N_\\text{p} \\in \\mathbb{N}$ is periodic with period $N_\\text{p}$. Sampling of a continuous complex exponential signal may result in an aperiodic discrete complex exponential signal.\n",
        "\n",
        "The complex exponential signal can be expressed in terms of its magnitude and phase\n",
        "\n",
        "\\begin{equation}\n",
        "x[k] = z^k = |z|^k \\cdot e^{j \\varphi(z) k}\n",
        "\\end{equation}\n",
        "\n",
        "where by comparison with its definition $|z| = |e^\\Sigma|$ and $\\varphi(z) = \\Omega$. This finding allows an interpretation of the complex frequency $z$. Its phase $\\varphi(z)$ is equal to the normalized frequency $\\Omega$ of its harmonic part $e^{j \\Omega k}$. This is weighted by the magnitude $|z|^k$. With increasing index $k >0$, the magnitude of the complex exponential signal is\n",
        "\n",
        "* exponentially decaying for $|z| < 1$ ($\\Sigma < 0$)\n",
        "* constantly one for $|z| = 1$ ($\\Sigma = 0$)\n",
        "* exponentially growing for $|z| > 1$ ($\\Sigma > 0$)."
      ]
    },
    {
      "cell_type": "code",
      "execution_count": 26,
      "metadata": {
        "id": "LLYQePVZlVrp"
      },
      "outputs": [],
      "source": [
        "import numpy as np\n",
        "import matplotlib.pyplot as plt\n",
        "%matplotlib inline\n",
        "\n",
        "def exponential_signal(k,*args):\n",
        "    if (len(args)==1):  # z^n\n",
        "        z=args[0]\n",
        "        return z**k;\n",
        "    else:   # z^n=(sigma+jomga)^n\n",
        "        Sigma=args[0]\n",
        "        Omega=args[1]\n",
        "        return(np.exp((Sigma+1j*Omega)*k))\n",
        "\n",
        "def plot_real_signal(k, x):\n",
        "    plt.figure(figsize=(10,4))\n",
        "    plt.stem(k,np.real(x),use_line_collection=True)\n",
        "    plt.xlabel('$n$')\n",
        "    plt.ylabel(r'$x[n]$')\n",
        "\n",
        "def plot_complex_signal(k, x):\n",
        "    plt.figure(figsize=(10, 4))\n",
        "    plt.subplot(121)\n",
        "    plt.stem(k, np.real(x), use_line_collection=True)\n",
        "    plt.xlabel('$n$')\n",
        "    plt.ylabel(r'$\\Re \\{ x[n] \\}$')\n",
        "\n",
        "    plt.subplot(122)\n",
        "    plt.stem(k, np.imag(x), use_line_collection=True)\n",
        "    plt.xlabel('$n$')\n",
        "    plt.ylabel(r'$\\Im \\{ x[n] \\}$')\n",
        "    plt.tight_layout()"
      ]
    },
    {
      "cell_type": "markdown",
      "source": [
        "## Case 1: $z$ 為實數"
      ],
      "metadata": {
        "id": "4C6GUg7ZIqm3"
      }
    },
    {
      "cell_type": "markdown",
      "source": [
        "\n",
        "> $z>1$"
      ],
      "metadata": {
        "id": "pqqPbmYNb0wl"
      }
    },
    {
      "cell_type": "code",
      "execution_count": 27,
      "metadata": {
        "outputId": "3c3325f3-c3e1-4b1a-df3b-31f73e52b22c",
        "colab": {
          "base_uri": "https://localhost:8080/",
          "height": 279
        },
        "id": "OhwN8FvcOO6v"
      },
      "outputs": [
        {
          "output_type": "display_data",
          "data": {
            "image/png": "[encoded data removed]",
            "text/plain": [
              "<Figure size 720x288 with 1 Axes>"
            ]
          },
          "metadata": {
            "needs_background": "light"
          }
        }
      ],
      "source": [
        "k = np.arange(31)\n",
        "z=1.1\n",
        "x = exponential_signal(k, z)\n",
        "plot_real_signal(k,x)\n"
      ]
    },
    {
      "cell_type": "markdown",
      "source": [
        "\n",
        "\n",
        "> $0<z<1$\n",
        "\n"
      ],
      "metadata": {
        "id": "ZwPRpo1CNc49"
      }
    },
    {
      "cell_type": "code",
      "execution_count": 28,
      "metadata": {
        "outputId": "660348c4-d66b-48fd-d7a0-4a14881fad5c",
        "colab": {
          "base_uri": "https://localhost:8080/",
          "height": 279
        },
        "id": "1_Uql52MN0Yl"
      },
      "outputs": [
        {
          "output_type": "display_data",
          "data": {
            "image/png": "[encoded data removed]",
            "text/plain": [
              "<Figure size 720x288 with 1 Axes>"
            ]
          },
          "metadata": {
            "needs_background": "light"
          }
        }
      ],
      "source": [
        "k = np.arange(31)\n",
        "z=0.9\n",
        "x = exponential_signal_z(k, z)\n",
        "plot_real_signal(k,x)\n"
      ]
    },
    {
      "cell_type": "code",
      "execution_count": 29,
      "metadata": {
        "id": "giPJdrmtlVrq",
        "colab": {
          "base_uri": "https://localhost:8080/",
          "height": 297
        },
        "outputId": "081915e6-5ac1-4c71-de8b-b0c6ccc39254"
      },
      "outputs": [
        {
          "output_type": "display_data",
          "data": {
            "image/png": "[encoded data removed]",
            "text/plain": [
              "<Figure size 720x288 with 2 Axes>"
            ]
          },
          "metadata": {
            "needs_background": "light"
          }
        }
      ],
      "source": [
        "k = np.arange(31)\n",
        "x = exponential_signal(k, 0.025, 0.5)\n",
        "plot_complex_signal(k,x)\n"
      ]
    },
    {
      "cell_type": "markdown",
      "source": [
        "## Case 3:"
      ],
      "metadata": {
        "id": "fQWiewvJmd6u"
      }
    }
  ],
  "metadata": {
    "kernelspec": {
      "display_name": "Python 3",
      "language": "python",
      "name": "python3"
    },
    "language_info": {
      "codemirror_mode": {
        "name": "ipython",
        "version": 3
      },
      "file_extension": ".py",
      "mimetype": "text/x-python",
      "name": "python",
      "nbconvert_exporter": "python",
      "pygments_lexer": "ipython3",
      "version": "3.7.10"
    },
    "colab": {
      "name": "SS02.ipynb",
      "provenance": [],
      "include_colab_link": true
    }
  },
  "nbformat": 4,
  "nbformat_minor": 0
}